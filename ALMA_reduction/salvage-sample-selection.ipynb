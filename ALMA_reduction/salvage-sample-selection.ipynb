{
 "cells": [
  {
   "cell_type": "code",
   "execution_count": 1,
   "id": "1792c06d-f886-4f13-b03c-0923a0f0b26c",
   "metadata": {},
   "outputs": [],
   "source": [
    "import pymysql\n",
    "import numpy as np\n",
    "from astropy import units as u\n",
    "from astropy.coordinates import SkyCoord\n",
    "import pandas, alminer, glob\n",
    "import matplotlib.pyplot as plt"
   ]
  },
  {
   "cell_type": "markdown",
   "id": "7898ebec-78fd-463a-8abe-e8cfac902de5",
   "metadata": {},
   "source": [
    "# Load ALMiner Query Results and Ancillary Data"
   ]
  },
  {
   "cell_type": "markdown",
   "id": "31869972-0458-4e8f-9823-bc2677c82a02",
   "metadata": {},
   "source": [
    "In this pilot pipeline, I don't have my final sample selected (nor would I like to try running on all of them yet!). For now, I'm grabbing the entire crossmatch and I'll test the pipeline with a small sample of \"sure-thing\" targets. As a result, the selection process is a bit innefficient and hard to read. This selection is more of an ad hoc approach and different from how I normally select my sample which will be done separately."
   ]
  },
  {
   "cell_type": "markdown",
   "id": "1ba8e8b2-779a-459f-8b67-ecbc50d38615",
   "metadata": {},
   "source": [
    "KNOWN ISSUES: \n",
    "\n",
    " - In cases where there are multiple observations of a target that meet a given selection, they are being treated as different objects by the same name."
   ]
  },
  {
   "cell_type": "code",
   "execution_count": 2,
   "id": "15e70a07-5d10-4798-bf8a-d76edd25556b",
   "metadata": {},
   "outputs": [],
   "source": [
    "# loading ALMiner query object from the crossmatch between SDSS and the ALMA archive\n",
    "f = '/arc/projects/salvage/ALMAxmatch/ALminer_output/SDSS-ALMA-search-Jan15-total.pkl'\n",
    "myquery = pandas.read_pickle(f)"
   ]
  },
  {
   "cell_type": "code",
   "execution_count": 3,
   "id": "8672a5b5-bd4e-4cc8-baeb-e99e71efbab3",
   "metadata": {},
   "outputs": [],
   "source": [
    "# grabbing a few quantities to select galaxies\n",
    "\n",
    "res_query = np.array(myquery['spatial_resolution'])\n",
    "mrs_query = np.array(myquery['spatial_scale_max'])\n",
    "min_freq_query = np.array(myquery[\"min_freq_GHz\"])\n",
    "max_freq_query = np.array(myquery[\"max_freq_GHz\"])\n",
    "ra_query  = np.array(myquery['RAJ2000'])\n",
    "dec_query = np.array(myquery['DEJ2000'])\n",
    "\n",
    "antennae   = np.array(myquery['antenna_arrays'])\n",
    "project    = np.array(myquery['project_code'])\n",
    "datatype   = np.array(myquery['dataproduct_type'])\n",
    "datarights = np.array(myquery['data_rights'])\n",
    "name       = np.array(myquery['ALMA_source_name'])\n",
    "\n",
    "muid = np.array(myquery['member_ous_uid'])\n",
    "guid = np.array(myquery['group_ous_uid'])\n",
    "auid = np.array(myquery['asdm_uid'])\n",
    "proj = np.array(myquery['project_code'])"
   ]
  },
  {
   "cell_type": "code",
   "execution_count": 4,
   "id": "f0a99d8f-5501-4b39-9733-b18e19d1c2ea",
   "metadata": {
    "tags": []
   },
   "outputs": [],
   "source": [
    "#Query MySQL for SDSS ancillary data\n",
    "\n",
    "db = pymysql.connect(host = 'lauca.phys.uvic.ca', db = 'sdss', user = 'swilkinson', passwd = '123Sdss!@#')\n",
    "x = 'SELECT u.objID, u.ra, u.decl, u.total_mass_med, u.z_spec, u.petroR50_r FROM  dr7_uberuber u WHERE u.total_mass_med > 1 AND u.z_spec < 0.5 AND u.decl < 47'\n",
    "c = db.cursor()\n",
    "c.execute(x)\n",
    "db_data = c.fetchall()\n",
    "c.close()\n",
    "db.close()\n",
    "\t\n",
    "# transpose queried table\n",
    "data = np.array(db_data, dtype = float).T\n",
    "table_id = np.array(db_data, dtype = str).T[0]"
   ]
  },
  {
   "cell_type": "code",
   "execution_count": 5,
   "id": "47184108-9aac-435f-84f5-817f2c3f0d4e",
   "metadata": {
    "tags": []
   },
   "outputs": [],
   "source": [
    "ra_sdss = data[1]\n",
    "dec_sdss = data[2]\n",
    "mass_sdss = data[3]\n",
    "z_sdss = data[4]\n",
    "rpetro_sdss = data[5]"
   ]
  },
  {
   "cell_type": "code",
   "execution_count": 6,
   "id": "222fab53-fbb8-4922-8f6f-da40d75d7718",
   "metadata": {
    "tags": []
   },
   "outputs": [],
   "source": [
    "# assign ancillary data to appropriate ALMA observations\n",
    "\n",
    "objID_query = []\n",
    "z_query = []\n",
    "mass_query = []\n",
    "rpetro_query = []\n",
    "\n",
    "for i in range(len(ra_query)):\n",
    "    \n",
    "    ra_q  = ra_query[i]\n",
    "    dec_q = dec_query[i]\n",
    "    \n",
    "    diff = np.sqrt((ra_sdss-ra_q)**2 + (dec_sdss-dec_q)**2)\n",
    "    \n",
    "    if np.min(diff) > 1:\n",
    "        print('Poor match!')\n",
    "\n",
    "    else:\n",
    "\n",
    "        objID_query.append(table_id[diff == np.min(diff)][0])\n",
    "        z_query.append(z_sdss[diff == np.min(diff)][0])\n",
    "        mass_query.append(mass_sdss[diff == np.min(diff)][0])\n",
    "        rpetro_query.append(rpetro_sdss[diff == np.min(diff)][0])\n",
    "\n",
    "z_query = np.array(z_query)\n",
    "mass_query = np.array(mass_query)\n",
    "rpetro_query = np.array(rpetro_query)\n",
    "objID_query = np.array(objID_query)"
   ]
  },
  {
   "cell_type": "code",
   "execution_count": 7,
   "id": "dec973d1-113f-4126-9622-a575a0e4e078",
   "metadata": {
    "tags": []
   },
   "outputs": [],
   "source": [
    "objID_sample = []\n",
    "z_sample = []\n",
    "mass_sample = []\n",
    "rpetro_sample = []\n",
    "\n",
    "ra_sample = []\n",
    "dec_sample = []\n",
    "res_sample = []\n",
    "mrs_sample = []\n",
    "    \n",
    "AL_sample = []\n",
    "AC_sample = []\n",
    "TP_sample = []\n",
    "\n",
    "project_sample = []\n",
    "year_sample = []\n",
    "name_sample = []\n",
    "\n",
    "muid_sample = []\n",
    "guid_sample = []\n",
    "auid_sample = []\n",
    "proj_sample = []\n",
    "\n",
    "rf_12CO_10 = 115.27120180 #GHz\n",
    "\n",
    "for i in range(len(ra_query)):\n",
    "        \n",
    "    rf_12CO_10 = 115.27120180 #GHz\n",
    "    redshifted_line = rf_12CO_10/(1+z_query[i])\n",
    "\n",
    "    if (min_freq_query[i] < redshifted_line) & (max_freq_query[i] > redshifted_line) & (datatype[i] == 'cube') & (datarights[i] == 'Public'):\n",
    "\n",
    "        # values from SDSS (already matched to query)\n",
    "        objID_sample.append(objID_query[i])\n",
    "        z_sample.append(z_query[i])\n",
    "        mass_sample.append(mass_query[i])\n",
    "        rpetro_sample.append(rpetro_query[i])\n",
    "        \n",
    "        # values from ALMA archive\n",
    "        ra_sample.append(ra_query[i])\n",
    "        dec_sample.append(dec_query[i])\n",
    "        res_sample.append(res_query[i])\n",
    "        mrs_sample.append(mrs_query[i])\n",
    "        \n",
    "        arrays = np.array([x.split(':')[1][0] for x in antennae[i].split(' ') if len(x) > 0])\n",
    "        AL_sample.append(len(arrays[arrays=='D']))\n",
    "        AC_sample.append(len(arrays[arrays=='C']))\n",
    "        TP_sample.append(len(arrays[arrays=='P']))\n",
    "        \n",
    "        project_sample.append(project[i])\n",
    "        year_sample.append(int(project[i].split('.')[0]))\n",
    "        name_sample.append(name[i])\n",
    "\n",
    "        muid_sample.append(muid[i])\n",
    "        guid_sample.append(guid[i])\n",
    "        auid_sample.append(auid[i])\n",
    "        proj_sample.append(proj[i])\n",
    "\n",
    "\n",
    "objID_sample = np.array(objID_sample)\n",
    "z_sample = np.array(z_sample)\n",
    "mass_sample = np.array(mass_sample)\n",
    "rpetro_sample = np.array(rpetro_sample)\n",
    "                          \n",
    "ra_sample = np.array(ra_sample)\n",
    "dec_sample = np.array(dec_sample)\n",
    "res_sample = np.array(res_sample)\n",
    "mrs_sample = np.array(mrs_sample)\n",
    "    \n",
    "AL_sample = np.array(AL_sample)\n",
    "AC_sample = np.array(AC_sample)\n",
    "TP_sample = np.array(TP_sample)\n",
    "\n",
    "project_sample = np.array(project_sample)\n",
    "year_sample = np.array(year_sample)\n",
    "name_sample = np.array(name_sample)\n",
    "\n",
    "muid_sample = np.array(muid_sample)\n",
    "guid_sample = np.array(guid_sample)\n",
    "auid_sample = np.array(auid_sample)\n",
    "proj_sample = np.array(proj_sample)"
   ]
  },
  {
   "cell_type": "code",
   "execution_count": 8,
   "id": "82b1f4d8-9044-4352-9953-90efb2ecaf17",
   "metadata": {},
   "outputs": [
    {
     "data": {
      "text/plain": [
       "383"
      ]
     },
     "execution_count": 8,
     "metadata": {},
     "output_type": "execute_result"
    }
   ],
   "source": [
    "len(objID_sample)"
   ]
  },
  {
   "cell_type": "code",
   "execution_count": 9,
   "id": "3379e0b8-9797-47da-9346-e42296dc9995",
   "metadata": {},
   "outputs": [
    {
     "data": {
      "text/plain": [
       "340"
      ]
     },
     "execution_count": 9,
     "metadata": {},
     "output_type": "execute_result"
    }
   ],
   "source": [
    "len(np.unique(objID_sample))"
   ]
  },
  {
   "cell_type": "code",
   "execution_count": 10,
   "id": "f0be90ca-da14-4baa-9249-063c1c1bbd27",
   "metadata": {
    "tags": []
   },
   "outputs": [],
   "source": [
    "selection_mask = []\n",
    "\n",
    "for i in range(len(objID_sample)):\n",
    "    \n",
    "    mask1 = year_sample[i]>2013\n",
    "    \n",
    "    mask2 = np.min(res_sample[objID_sample==objID_sample[i]]) < 3\n",
    "    \n",
    "    mask3 = np.max(mrs_sample[objID_sample==objID_sample[i]]) > (4 * rpetro_sample[i])\n",
    "    \n",
    "    #print(res_sample[objID_sample==objID_sample[i]])\n",
    "    #print(np.min(res_sample[objID_sample==objID_sample[i]]))\n",
    "    #print(mask1, mask2, mask1&mask2)\n",
    "    \n",
    "    selection_mask.append(mask1 & mask2 & mask3)\n",
    "    \n",
    "selection_mask = np.array(selection_mask)\n",
    "\n",
    "objID_sample = objID_sample[selection_mask]\n",
    "z_sample = z_sample[selection_mask]\n",
    "mass_sample = mass_sample[selection_mask]\n",
    "rpetro_sample = rpetro_sample[selection_mask]\n",
    "                          \n",
    "ra_sample = ra_sample[selection_mask]\n",
    "dec_sample = dec_sample[selection_mask]\n",
    "res_sample = res_sample[selection_mask]\n",
    "mrs_sample = mrs_sample[selection_mask]\n",
    "    \n",
    "AL_sample = AL_sample[selection_mask]\n",
    "AC_sample = AC_sample[selection_mask]\n",
    "TP_sample = TP_sample[selection_mask]\n",
    "\n",
    "project_sample = project_sample[selection_mask]\n",
    "year_sample = year_sample[selection_mask]\n",
    "name_sample = name_sample[selection_mask]\n",
    "\n",
    "muid_sample = muid_sample[selection_mask]\n",
    "guid_sample = guid_sample[selection_mask]\n",
    "auid_sample = auid_sample[selection_mask]\n",
    "proj_sample = proj_sample[selection_mask]"
   ]
  },
  {
   "cell_type": "code",
   "execution_count": 11,
   "id": "007962ba-969f-4710-bd04-18481732d54a",
   "metadata": {},
   "outputs": [
    {
     "data": {
      "text/plain": [
       "185"
      ]
     },
     "execution_count": 11,
     "metadata": {},
     "output_type": "execute_result"
    }
   ],
   "source": [
    "len(objID_sample)"
   ]
  },
  {
   "cell_type": "code",
   "execution_count": 12,
   "id": "7c6dc6b6-c0e5-4eb9-881a-f9d8d8f4be88",
   "metadata": {},
   "outputs": [
    {
     "data": {
      "text/plain": [
       "167"
      ]
     },
     "execution_count": 12,
     "metadata": {},
     "output_type": "execute_result"
    }
   ],
   "source": [
    "len(np.unique(objID_sample))"
   ]
  },
  {
   "cell_type": "code",
   "execution_count": 13,
   "id": "7fa18a96-cf7b-4a94-8d44-2334f6f3adbf",
   "metadata": {},
   "outputs": [],
   "source": [
    "pilot_mask = []\n",
    "\n",
    "for i in range(len(objID_sample)):\n",
    "    \n",
    "    mask1 = year_sample[i]==2018\n",
    "    \n",
    "    mask2 = np.min(res_sample[objID_sample==objID_sample[i]]) < 3\n",
    "    \n",
    "    mask3 = np.max(mrs_sample[objID_sample==objID_sample[i]]) > (4 * rpetro_sample[i])\n",
    "    \n",
    "    #print(res_sample[objID_sample==objID_sample[i]])\n",
    "    #print(np.min(res_sample[objID_sample==objID_sample[i]]))\n",
    "    #print(mask1, mask2, mask1&mask2)\n",
    "    \n",
    "    pilot_mask.append(mask1 & mask2 & mask3)\n",
    "    \n",
    "pilot_mask = np.array(pilot_mask)\n",
    "\n",
    "objID_sample = objID_sample[pilot_mask]\n",
    "z_sample = z_sample[pilot_mask]\n",
    "mass_sample = mass_sample[pilot_mask]\n",
    "rpetro_sample = rpetro_sample[pilot_mask]\n",
    "                          \n",
    "ra_sample = ra_sample[pilot_mask]\n",
    "dec_sample = dec_sample[pilot_mask]\n",
    "res_sample = res_sample[pilot_mask]\n",
    "mrs_sample = mrs_sample[pilot_mask]\n",
    "    \n",
    "AL_sample = AL_sample[pilot_mask]\n",
    "AC_sample = AC_sample[pilot_mask]\n",
    "TP_sample = TP_sample[pilot_mask]\n",
    "\n",
    "year_sample = year_sample[pilot_mask]\n",
    "name_sample = name_sample[pilot_mask]\n",
    "\n",
    "muid_sample = muid_sample[pilot_mask]\n",
    "guid_sample = guid_sample[pilot_mask]\n",
    "auid_sample = auid_sample[pilot_mask]\n",
    "proj_sample = proj_sample[pilot_mask]"
   ]
  },
  {
   "cell_type": "code",
   "execution_count": 14,
   "id": "51048ada-42e0-48c0-b475-c42051f128df",
   "metadata": {},
   "outputs": [
    {
     "data": {
      "text/plain": [
       "26"
      ]
     },
     "execution_count": 14,
     "metadata": {},
     "output_type": "execute_result"
    }
   ],
   "source": [
    "len(objID_sample)"
   ]
  },
  {
   "cell_type": "code",
   "execution_count": 15,
   "id": "811267b3-7de2-4ae8-8a0b-7c10ed410b31",
   "metadata": {},
   "outputs": [
    {
     "data": {
      "text/plain": [
       "22"
      ]
     },
     "execution_count": 15,
     "metadata": {},
     "output_type": "execute_result"
    }
   ],
   "source": [
    "len(np.unique(objID_sample))"
   ]
  },
  {
   "cell_type": "code",
   "execution_count": 24,
   "id": "691586ad-f30b-40cc-a27e-dd609cb80c1a",
   "metadata": {},
   "outputs": [],
   "source": [
    "fpath = '/arc/projects/salvage/ALMA_reduction/samples/'\n",
    "out = open(fpath + 'pilot_sample.txt', 'w')\n",
    "out.write('#objID z mass rpetro ra dec res mrs AL AC TP year mui guid auid proj\\n')\n",
    "\n",
    "for i in range(len(objID_sample)):\n",
    "    out.write(f'{objID_sample[i]} {z_sample[i]} {mass_sample[i]} {rpetro_sample[i]} {ra_sample[i]} {dec_sample[i]} {res_sample[i]} {mrs_sample[i]} {AL_sample[i]} {AC_sample[i]} {TP_sample[i]} {year_sample[i]} {name_sample[i]} {muid_sample[i]} {guid_sample[i]} {auid_sample[i]} {proj_sample[i]}\\n')\n",
    "\n",
    "out.close()"
   ]
  },
  {
   "cell_type": "code",
   "execution_count": null,
   "id": "c45033ab-a746-453f-83d0-aaa620b492c5",
   "metadata": {},
   "outputs": [],
   "source": []
  }
 ],
 "metadata": {
  "kernelspec": {
   "display_name": "almaredux",
   "language": "python",
   "name": "almaredux"
  },
  "language_info": {
   "codemirror_mode": {
    "name": "ipython",
    "version": 3
   },
   "file_extension": ".py",
   "mimetype": "text/x-python",
   "name": "python",
   "nbconvert_exporter": "python",
   "pygments_lexer": "ipython3",
   "version": "3.8.13"
  }
 },
 "nbformat": 4,
 "nbformat_minor": 5
}
